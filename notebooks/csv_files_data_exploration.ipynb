{
 "cells": [
  {
   "cell_type": "code",
   "execution_count": 4,
   "id": "a8ac10b3",
   "metadata": {},
   "outputs": [],
   "source": [
    "%matplotlib inline\n",
    "\n",
    "import os\n",
    "import matplotlib.pyplot as plt\n",
    "import numpy as np\n",
    "import pandas as pd\n",
    "import glob\n",
    "from textblob import TextBlob\n",
    "from spacy_langdetect import LanguageDetector\n",
    "import spacy"
   ]
  },
  {
   "cell_type": "code",
   "execution_count": 5,
   "id": "fad0686d",
   "metadata": {},
   "outputs": [],
   "source": [
    "# fetch all csv file paths\n",
    "csv_file_path_list = glob.glob(\"/Users/Shared/github_projects/Second-Hand-Arbitrage/csv files/*\")"
   ]
  },
  {
   "cell_type": "code",
   "execution_count": 6,
   "id": "9a613c67",
   "metadata": {},
   "outputs": [],
   "source": [
    "# create dataframe shell and append all csv contents\n",
    "csv_df = pd.DataFrame(columns=[\"url\", \"title\", \"price\", \"date\"])\n",
    "\n",
    "for csv_path in csv_file_path_list:\n",
    "    csv = pd.read_csv(csv_path, names=[\"url\", \"title\", \"price\", \"date\"])\n",
    "    csv_df = csv_df.append(csv)"
   ]
  },
  {
   "cell_type": "code",
   "execution_count": 7,
   "id": "ba5351ea",
   "metadata": {},
   "outputs": [],
   "source": [
    "# remove data for dates where entries are under 100 (these are outliers where scrapping did not fully complete)\n",
    "csv_df_reject = csv_df.groupby(csv_df[\"date\"]).count() < 100\n",
    "rejected_dates = csv_df_reject.index[csv_df_reject['url'] == True].tolist()\n",
    "csv_df_valid_dates = csv_df[~csv_df[\"date\"].isin(rejected_dates)]"
   ]
  },
  {
   "cell_type": "code",
   "execution_count": 8,
   "id": "2d29b011",
   "metadata": {},
   "outputs": [
    {
     "data": {
      "text/plain": [
       "<AxesSubplot:xlabel='date'>"
      ]
     },
     "execution_count": 8,
     "metadata": {},
     "output_type": "execute_result"
    },
    {
     "data": {
      "image/png": "[encoded data removed]",
      "text/plain": [
       "<Figure size 432x288 with 1 Axes>"
      ]
     },
     "metadata": {
      "needs_background": "light"
     },
     "output_type": "display_data"
    }
   ],
   "source": [
    "# display the number of of offers for a given date\n",
    "csv_df_valid_dates.groupby(csv_df_valid_dates[\"date\"]).count().url.plot()"
   ]
  },
  {
   "cell_type": "code",
   "execution_count": 31,
   "id": "7e13d7ae",
   "metadata": {},
   "outputs": [
    {
     "name": "stdout",
     "output_type": "stream",
     "text": [
      "Objektiv Canon EF 100mm 1:2. 8L Makro\n"
     ]
    }
   ],
   "source": [
    "text_content = csv_df_valid_dates.title.tolist()[3]\n",
    "print(text_content)"
   ]
  },
  {
   "cell_type": "code",
   "execution_count": 70,
   "id": "6504f125",
   "metadata": {},
   "outputs": [
    {
     "name": "stdout",
     "output_type": "stream",
     "text": [
      "/fr/a/canon-50mm-1.8-ef-1193903100/\n"
     ]
    }
   ],
   "source": [
    "text_content = csv_df_valid_dates.url.tolist()[2]\n",
    "print(text_content)"
   ]
  },
  {
   "cell_type": "code",
   "execution_count": 88,
   "id": "329e1f77",
   "metadata": {},
   "outputs": [],
   "source": [
    "#nlp = spacy.blank('de')\n",
    "nlp = spacy.load('en_core_web_sm')  # 1\n",
    "#text_content = \"Er lebt mit 1 Eltern und seiner Schwester in Berlin.\"\n",
    "doc = nlp(text_content) #3"
   ]
  },
  {
   "cell_type": "code",
   "execution_count": 89,
   "id": "eaaaca45",
   "metadata": {},
   "outputs": [
    {
     "name": "stdout",
     "output_type": "stream",
     "text": [
      "Canon       PROPN     compound  \n",
      "Objektiv    PROPN     compound  \n",
      "EF          PROPN     ROOT      \n",
      "50          NUM       nummod    \n",
      "mm          NOUN      appos     \n",
      "f/1.2L      NOUN      punct     \n",
      "USM         ADV       ROOT      \n"
     ]
    }
   ],
   "source": [
    "for token in doc:\n",
    "    # Get the token text, part-of-speech tag and dependency label\n",
    "    token_text = token.text\n",
    "    token_pos = token.pos_\n",
    "    token_dep = token.dep_\n",
    "    # This is for formatting only\n",
    "    print(f\"{token_text:<12}{token_pos:<10}{token_dep:<10}\")"
   ]
  },
  {
   "cell_type": "code",
   "execution_count": 90,
   "id": "6f6d9b62",
   "metadata": {},
   "outputs": [
    {
     "name": "stdout",
     "output_type": "stream",
     "text": [
      "Canon Objektiv EF ORG\n"
     ]
    }
   ],
   "source": [
    "for ent in doc.ents:\n",
    "    # Print the entity text and its label\n",
    "    print(ent.text, ent.label_)"
   ]
  },
  {
   "cell_type": "code",
   "execution_count": 23,
   "id": "8f6ef6e4",
   "metadata": {},
   "outputs": [
    {
     "name": "stdout",
     "output_type": "stream",
     "text": [
      "Canon\n",
      "en\n",
      "{'language': 'it', 'score': 0.9999946762663323}\n",
      "Objektiv\n",
      "de\n",
      "{'language': 'hr', 'score': 0.9999955042462709}\n",
      "EF\n"
     ]
    },
    {
     "ename": "TranslatorError",
     "evalue": "Must provide a string with at least 3 characters.",
     "output_type": "error",
     "traceback": [
      "\u001b[0;31m---------------------------------------------------------------------------\u001b[0m",
      "\u001b[0;31mTranslatorError\u001b[0m                           Traceback (most recent call last)",
      "\u001b[0;32m/var/folders/gt/3jk3bcbn4db3qn7z0bz083xc0000gn/T/ipykernel_906/3189289932.py\u001b[0m in \u001b[0;36m<module>\u001b[0;34m\u001b[0m\n\u001b[1;32m     12\u001b[0m     \u001b[0mprint\u001b[0m\u001b[0;34m(\u001b[0m\u001b[0mtoken\u001b[0m\u001b[0;34m.\u001b[0m\u001b[0mtext\u001b[0m\u001b[0;34m)\u001b[0m\u001b[0;34m\u001b[0m\u001b[0;34m\u001b[0m\u001b[0m\n\u001b[1;32m     13\u001b[0m     \u001b[0mlang\u001b[0m \u001b[0;34m=\u001b[0m \u001b[0mTextBlob\u001b[0m\u001b[0;34m(\u001b[0m\u001b[0mtoken\u001b[0m\u001b[0;34m.\u001b[0m\u001b[0mtext\u001b[0m\u001b[0;34m)\u001b[0m\u001b[0;34m\u001b[0m\u001b[0;34m\u001b[0m\u001b[0m\n\u001b[0;32m---> 14\u001b[0;31m     \u001b[0mprint\u001b[0m\u001b[0;34m(\u001b[0m\u001b[0mlang\u001b[0m\u001b[0;34m.\u001b[0m\u001b[0mdetect_language\u001b[0m\u001b[0;34m(\u001b[0m\u001b[0;34m)\u001b[0m\u001b[0;34m)\u001b[0m\u001b[0;34m\u001b[0m\u001b[0;34m\u001b[0m\u001b[0m\n\u001b[0m\u001b[1;32m     15\u001b[0m     \u001b[0mprint\u001b[0m\u001b[0;34m(\u001b[0m\u001b[0mtoken\u001b[0m\u001b[0;34m.\u001b[0m\u001b[0m_\u001b[0m\u001b[0;34m.\u001b[0m\u001b[0mlanguage\u001b[0m\u001b[0;34m)\u001b[0m\u001b[0;34m\u001b[0m\u001b[0;34m\u001b[0m\u001b[0m\n",
      "\u001b[0;32m/opt/homebrew/Caskroom/miniforge/base/envs/arbitrage/lib/python3.10/site-packages/textblob/blob.py\u001b[0m in \u001b[0;36mdetect_language\u001b[0;34m(self)\u001b[0m\n\u001b[1;32m    595\u001b[0m             \u001b[0mDeprecationWarning\u001b[0m\u001b[0;34m\u001b[0m\u001b[0;34m\u001b[0m\u001b[0m\n\u001b[1;32m    596\u001b[0m         )\n\u001b[0;32m--> 597\u001b[0;31m         \u001b[0;32mreturn\u001b[0m \u001b[0mself\u001b[0m\u001b[0;34m.\u001b[0m\u001b[0mtranslator\u001b[0m\u001b[0;34m.\u001b[0m\u001b[0mdetect\u001b[0m\u001b[0;34m(\u001b[0m\u001b[0mself\u001b[0m\u001b[0;34m.\u001b[0m\u001b[0mraw\u001b[0m\u001b[0;34m)\u001b[0m\u001b[0;34m\u001b[0m\u001b[0;34m\u001b[0m\u001b[0m\n\u001b[0m\u001b[1;32m    598\u001b[0m \u001b[0;34m\u001b[0m\u001b[0m\n\u001b[1;32m    599\u001b[0m     \u001b[0;32mdef\u001b[0m \u001b[0mcorrect\u001b[0m\u001b[0;34m(\u001b[0m\u001b[0mself\u001b[0m\u001b[0;34m)\u001b[0m\u001b[0;34m:\u001b[0m\u001b[0;34m\u001b[0m\u001b[0;34m\u001b[0m\u001b[0m\n",
      "\u001b[0;32m/opt/homebrew/Caskroom/miniforge/base/envs/arbitrage/lib/python3.10/site-packages/textblob/translate.py\u001b[0m in \u001b[0;36mdetect\u001b[0;34m(self, source, host, type_)\u001b[0m\n\u001b[1;32m     67\u001b[0m             \u001b[0msource\u001b[0m \u001b[0;34m=\u001b[0m \u001b[0msource\u001b[0m\u001b[0;34m.\u001b[0m\u001b[0mencode\u001b[0m\u001b[0;34m(\u001b[0m\u001b[0;34m'utf-8'\u001b[0m\u001b[0;34m)\u001b[0m\u001b[0;34m\u001b[0m\u001b[0;34m\u001b[0m\u001b[0m\n\u001b[1;32m     68\u001b[0m         \u001b[0;32mif\u001b[0m \u001b[0mlen\u001b[0m\u001b[0;34m(\u001b[0m\u001b[0msource\u001b[0m\u001b[0;34m)\u001b[0m \u001b[0;34m<\u001b[0m \u001b[0;36m3\u001b[0m\u001b[0;34m:\u001b[0m\u001b[0;34m\u001b[0m\u001b[0;34m\u001b[0m\u001b[0m\n\u001b[0;32m---> 69\u001b[0;31m             \u001b[0;32mraise\u001b[0m \u001b[0mTranslatorError\u001b[0m\u001b[0;34m(\u001b[0m\u001b[0;34m'Must provide a string with at least 3 characters.'\u001b[0m\u001b[0;34m)\u001b[0m\u001b[0;34m\u001b[0m\u001b[0;34m\u001b[0m\u001b[0m\n\u001b[0m\u001b[1;32m     70\u001b[0m         \u001b[0mdata\u001b[0m \u001b[0;34m=\u001b[0m \u001b[0;34m{\u001b[0m\u001b[0;34m\"q\"\u001b[0m\u001b[0;34m:\u001b[0m \u001b[0msource\u001b[0m\u001b[0;34m}\u001b[0m\u001b[0;34m\u001b[0m\u001b[0;34m\u001b[0m\u001b[0m\n\u001b[1;32m     71\u001b[0m         url = u'{url}&sl=auto&tk={tk}&client={client}'.format(\n",
      "\u001b[0;31mTranslatorError\u001b[0m: Must provide a string with at least 3 characters."
     ]
    }
   ],
   "source": [
    "from spacy.language import Language\n",
    "from spacy_langdetect import LanguageDetector\n",
    "\n",
    "#@Language.factory(\"language_detector\")\n",
    "#def get_lang_detector(nlp, name):\n",
    "#    return LanguageDetector()\n",
    "\n",
    "nlp = spacy.load(\"en_core_web_sm\")\n",
    "doc = nlp(text_content)\n",
    "nlp.add_pipe('language_detector', last=True)\n",
    "for token in doc:\n",
    "    print(token.text)\n",
    "\n",
    "    print(token._.language)"
   ]
  },
  {
   "cell_type": "code",
   "execution_count": 21,
   "id": "a61f9792",
   "metadata": {},
   "outputs": [],
   "source": [
    "from textblob import TextBlob"
   ]
  },
  {
   "cell_type": "code",
   "execution_count": 41,
   "id": "3bb49832",
   "metadata": {},
   "outputs": [
    {
     "data": {
      "text/plain": [
       "TextBlob(\"Objektiv Canon EF 100mm 1:2. 8L Makro\")"
      ]
     },
     "execution_count": 41,
     "metadata": {},
     "output_type": "execute_result"
    }
   ],
   "source": [
    "lang = TextBlob(text_content)\n",
    "lang\n",
    "#print(lang.detect_language())\n",
    "#print(lang.translate(from_lang='de',to='en'))"
   ]
  },
  {
   "cell_type": "code",
   "execution_count": 43,
   "id": "eea76374",
   "metadata": {},
   "outputs": [
    {
     "data": {
      "text/plain": [
       "[hr:0.8571397883764063, sl:0.1428601610015285]"
      ]
     },
     "execution_count": 43,
     "metadata": {},
     "output_type": "execute_result"
    }
   ],
   "source": [
    "from langdetect import DetectorFactory, detect, detect_langs\n",
    "text = \"My lubimy mleko i chleb.\"\n",
    "detect(text_content) #  'cs'\n",
    "detect_langs(text_content)  # [cs:0.7142840957132709, pl:0.14285810606233737, sk:0.14285779665739756]"
   ]
  },
  {
   "cell_type": "code",
   "execution_count": 69,
   "id": "9bf86a62",
   "metadata": {},
   "outputs": [
    {
     "name": "stdout",
     "output_type": "stream",
     "text": [
      "de -168.32920455932617\n"
     ]
    }
   ],
   "source": [
    "import langid\n",
    "langid.set_languages(['de', 'fr','it','en'])  # ISO 639-1 codes\n",
    "lang, score = langid.classify('Wenig gebrauchtes Objektiv. Keine Kratzer, keine Schäden. NP 925.-, 06.2017')\n",
    "print(lang, score) # en"
   ]
  },
  {
   "cell_type": "code",
   "execution_count": 59,
   "id": "91d8a883",
   "metadata": {},
   "outputs": [
    {
     "name": "stdout",
     "output_type": "stream",
     "text": [
      "Canon\n",
      "Objektiv\n"
     ]
    }
   ],
   "source": [
    "\n",
    "for token in doc:\n",
    "    if len(token)> 3 and token.is_alpha:\n",
    "        print(token)"
   ]
  },
  {
   "cell_type": "code",
   "execution_count": 71,
   "id": "3ac3573f",
   "metadata": {},
   "outputs": [
    {
     "data": {
      "text/plain": [
       "'/fr/a/canon-50mm-1.8-ef-1193903100/'"
      ]
     },
     "execution_count": 71,
     "metadata": {},
     "output_type": "execute_result"
    }
   ],
   "source": [
    "text_content"
   ]
  },
  {
   "cell_type": "code",
   "execution_count": 79,
   "id": "5f89567a",
   "metadata": {},
   "outputs": [],
   "source": [
    "urls = list(set(csv_df_valid_dates.url.tolist()))"
   ]
  },
  {
   "cell_type": "code",
   "execution_count": 80,
   "id": "32393b2b",
   "metadata": {},
   "outputs": [],
   "source": [
    "with open('/Users/Shared/github_projects/Second-Hand-Arbitrage/metadata/product_page_urls.csv', \"a\") as url_file:\n",
    "    for url in urls:\n",
    "        url_file.write(url + \"\\n\")"
   ]
  },
  {
   "cell_type": "code",
   "execution_count": 81,
   "id": "b64aed8f",
   "metadata": {},
   "outputs": [],
   "source": [
    "product_page_urls_path = '/Users/Shared/github_projects/Second-Hand-Arbitrage/metadata/product_page_urls.text'\n",
    "product_page_urls_df = pd.read_csv(product_page_urls_path, names=[\"url\"])"
   ]
  },
  {
   "cell_type": "code",
   "execution_count": 82,
   "id": "6e62e9e8",
   "metadata": {},
   "outputs": [
    {
     "data": {
      "text/html": [
       "<div>\n",
       "<style scoped>\n",
       "    .dataframe tbody tr th:only-of-type {\n",
       "        vertical-align: middle;\n",
       "    }\n",
       "\n",
       "    .dataframe tbody tr th {\n",
       "        vertical-align: top;\n",
       "    }\n",
       "\n",
       "    .dataframe thead th {\n",
       "        text-align: right;\n",
       "    }\n",
       "</style>\n",
       "<table border=\"1\" class=\"dataframe\">\n",
       "  <thead>\n",
       "    <tr style=\"text-align: right;\">\n",
       "      <th></th>\n",
       "      <th>url</th>\n",
       "    </tr>\n",
       "  </thead>\n",
       "  <tbody>\n",
       "    <tr>\n",
       "      <th>0</th>\n",
       "      <td>/fr/a/canon-ef-50mm-f-1.8-ii-1190552364/</td>\n",
       "    </tr>\n",
       "    <tr>\n",
       "      <th>1</th>\n",
       "      <td>/fr/a/canon-ef-50mm-f-1.8-ii-1194236052/</td>\n",
       "    </tr>\n",
       "    <tr>\n",
       "      <th>2</th>\n",
       "      <td>/fr/a/canon-ef-24-70mm-f-4-l-is-usm-1188867838/</td>\n",
       "    </tr>\n",
       "    <tr>\n",
       "      <th>3</th>\n",
       "      <td>/fr/a/canon-ef-s-4-5.6-55-250-mm-is-ii-1193720...</td>\n",
       "    </tr>\n",
       "    <tr>\n",
       "      <th>4</th>\n",
       "      <td>/fr/a/restposten-sonnenblende-ew-63c-ew63c-119...</td>\n",
       "    </tr>\n",
       "    <tr>\n",
       "      <th>...</th>\n",
       "      <td>...</td>\n",
       "    </tr>\n",
       "    <tr>\n",
       "      <th>574</th>\n",
       "      <td>/fr/a/canon-eos-1200d-ef-s-18-55mm-is-ii-kit-t...</td>\n",
       "    </tr>\n",
       "    <tr>\n",
       "      <th>575</th>\n",
       "      <td>/fr/a/canon-eos-500d-kit-ef-s-18-55-mm-f-1-118...</td>\n",
       "    </tr>\n",
       "    <tr>\n",
       "      <th>576</th>\n",
       "      <td>/fr/a/zoomobjektiv-tamron-zu-canon-ef-1194189522/</td>\n",
       "    </tr>\n",
       "    <tr>\n",
       "      <th>577</th>\n",
       "      <td>/fr/a/canon-ef-s-18-55mm-objektiv-1186687780/</td>\n",
       "    </tr>\n",
       "    <tr>\n",
       "      <th>578</th>\n",
       "      <td>/fr/a/canon-sonnenblende-ew-78ii-1101238872/</td>\n",
       "    </tr>\n",
       "  </tbody>\n",
       "</table>\n",
       "<p>579 rows × 1 columns</p>\n",
       "</div>"
      ],
      "text/plain": [
       "                                                   url\n",
       "0             /fr/a/canon-ef-50mm-f-1.8-ii-1190552364/\n",
       "1             /fr/a/canon-ef-50mm-f-1.8-ii-1194236052/\n",
       "2      /fr/a/canon-ef-24-70mm-f-4-l-is-usm-1188867838/\n",
       "3    /fr/a/canon-ef-s-4-5.6-55-250-mm-is-ii-1193720...\n",
       "4    /fr/a/restposten-sonnenblende-ew-63c-ew63c-119...\n",
       "..                                                 ...\n",
       "574  /fr/a/canon-eos-1200d-ef-s-18-55mm-is-ii-kit-t...\n",
       "575  /fr/a/canon-eos-500d-kit-ef-s-18-55-mm-f-1-118...\n",
       "576  /fr/a/zoomobjektiv-tamron-zu-canon-ef-1194189522/\n",
       "577      /fr/a/canon-ef-s-18-55mm-objektiv-1186687780/\n",
       "578       /fr/a/canon-sonnenblende-ew-78ii-1101238872/\n",
       "\n",
       "[579 rows x 1 columns]"
      ]
     },
     "execution_count": 82,
     "metadata": {},
     "output_type": "execute_result"
    }
   ],
   "source": [
    "product_page_urls_df"
   ]
  },
  {
   "cell_type": "code",
   "execution_count": 84,
   "id": "90cc9473",
   "metadata": {},
   "outputs": [],
   "source": [
    "list_of_files = glob.glob('/Users/Shared/github_projects/Second-Hand-Arbitrage/csv files/*') # * means all if need specific format then *.csv\n",
    "latest_file_path = max(list_of_files, key=os.path.getctime)\n",
    "latest_file_df = pd.read_csv(latest_file_path, names=[\"url\", \"title\", \"price\", \"date\"])"
   ]
  },
  {
   "cell_type": "code",
   "execution_count": 90,
   "id": "222df380",
   "metadata": {},
   "outputs": [
    {
     "data": {
      "text/html": [
       "<div>\n",
       "<style scoped>\n",
       "    .dataframe tbody tr th:only-of-type {\n",
       "        vertical-align: middle;\n",
       "    }\n",
       "\n",
       "    .dataframe tbody tr th {\n",
       "        vertical-align: top;\n",
       "    }\n",
       "\n",
       "    .dataframe thead th {\n",
       "        text-align: right;\n",
       "    }\n",
       "</style>\n",
       "<table border=\"1\" class=\"dataframe\">\n",
       "  <thead>\n",
       "    <tr style=\"text-align: right;\">\n",
       "      <th></th>\n",
       "      <th>url</th>\n",
       "    </tr>\n",
       "  </thead>\n",
       "  <tbody>\n",
       "    <tr>\n",
       "      <th>0</th>\n",
       "      <td>/fr/a/sigma-8-16mm-f-4-5-5-6-canon-ef-s-mount-...</td>\n",
       "    </tr>\n",
       "    <tr>\n",
       "      <th>1</th>\n",
       "      <td>/fr/a/canon-objektiv-ef-50mm-f-1.2l-usm-119392...</td>\n",
       "    </tr>\n",
       "    <tr>\n",
       "      <th>2</th>\n",
       "      <td>/fr/a/canon-objektiv-ef-75-300mm-und-autofokus...</td>\n",
       "    </tr>\n",
       "    <tr>\n",
       "      <th>3</th>\n",
       "      <td>/fr/a/1xcanon-ef-1x-canon-efs-objektiv-1194434...</td>\n",
       "    </tr>\n",
       "    <tr>\n",
       "      <th>4</th>\n",
       "      <td>/fr/a/canon-lens-cap-e-145-ef-300-f2.8-lis-usm...</td>\n",
       "    </tr>\n",
       "    <tr>\n",
       "      <th>...</th>\n",
       "      <td>...</td>\n",
       "    </tr>\n",
       "    <tr>\n",
       "      <th>310</th>\n",
       "      <td>/fr/a/metabones-speed-booster-ef-zu-mft-119281...</td>\n",
       "    </tr>\n",
       "    <tr>\n",
       "      <th>311</th>\n",
       "      <td>/fr/a/eos-ef-rf-adapter-(-viltrox)-1193462204/</td>\n",
       "    </tr>\n",
       "    <tr>\n",
       "      <th>312</th>\n",
       "      <td>/fr/a/72mm-makro-umkehr-ring-canon-eos-1186814...</td>\n",
       "    </tr>\n",
       "    <tr>\n",
       "      <th>313</th>\n",
       "      <td>/fr/a/72mm-makro-umkehr-ring-canon-eos-1186814...</td>\n",
       "    </tr>\n",
       "    <tr>\n",
       "      <th>314</th>\n",
       "      <td>/fr/a/canon-sonnenblende-ew-63ii-1101384342/</td>\n",
       "    </tr>\n",
       "  </tbody>\n",
       "</table>\n",
       "<p>315 rows × 1 columns</p>\n",
       "</div>"
      ],
      "text/plain": [
       "                                                   url\n",
       "0    /fr/a/sigma-8-16mm-f-4-5-5-6-canon-ef-s-mount-...\n",
       "1    /fr/a/canon-objektiv-ef-50mm-f-1.2l-usm-119392...\n",
       "2    /fr/a/canon-objektiv-ef-75-300mm-und-autofokus...\n",
       "3    /fr/a/1xcanon-ef-1x-canon-efs-objektiv-1194434...\n",
       "4    /fr/a/canon-lens-cap-e-145-ef-300-f2.8-lis-usm...\n",
       "..                                                 ...\n",
       "310  /fr/a/metabones-speed-booster-ef-zu-mft-119281...\n",
       "311     /fr/a/eos-ef-rf-adapter-(-viltrox)-1193462204/\n",
       "312  /fr/a/72mm-makro-umkehr-ring-canon-eos-1186814...\n",
       "313  /fr/a/72mm-makro-umkehr-ring-canon-eos-1186814...\n",
       "314       /fr/a/canon-sonnenblende-ew-63ii-1101384342/\n",
       "\n",
       "[315 rows x 1 columns]"
      ]
     },
     "execution_count": 90,
     "metadata": {},
     "output_type": "execute_result"
    }
   ],
   "source": [
    "latest_file_df[[\"url\"]]"
   ]
  },
  {
   "cell_type": "code",
   "execution_count": 98,
   "id": "3956c04e",
   "metadata": {},
   "outputs": [],
   "source": [
    "new_product_page_urls = list(set(pd.merge(latest_file_df, product_page_urls_df, how='outer',\n",
    "indicator=True).query('_merge == \"left_only\"').drop(columns=['_merge'])[\"url\"].to_list()))"
   ]
  },
  {
   "cell_type": "code",
   "execution_count": 101,
   "id": "8bad7837",
   "metadata": {},
   "outputs": [
    {
     "data": {
      "text/plain": [
       "['/fr/a/tamron-70-300mm-4-5.6-ef-1193246790/',\n",
       " '/fr/a/canon-ef-100-400mm-f-4.5-5.6l-is-ii-usm-1194391184/',\n",
       " '/fr/a/canon-eos-100d-lens-macro-ef-s-60mm-1194511192/',\n",
       " '/fr/a/sigma-objektiv-dc-os-hsm-macro-17-70mm-1194428802/',\n",
       " '/fr/a/canon-ef-s-60mm-f-2.8-usm-macro-objektiv-1190215530/',\n",
       " '/fr/a/canon-objektiv-ef-75-300mm-und-autofokus-1194244370/',\n",
       " '/fr/a/canon-ef-s-10-18-is-stm-(!)-filter-sb-1194524908/',\n",
       " '/fr/a/original-canon-adapter-ef-eos-m-1194383406/',\n",
       " '/fr/a/gegenlichtblende-typ-ew-83e-fuer-canon-1194344250/',\n",
       " '/fr/a/canon-ef-70-200mm-f-2.8l-is-iii-usm-1194448828/',\n",
       " '/fr/a/canon-ef-100mm-f-2.8-l-macro-is-usm-1194509420/',\n",
       " \"/fr/a/convertisseur-d'objectif-fd-a-eos-ef-1194379408/\",\n",
       " '/fr/a/canon-ef-50mm-f-1.4-usm-objektiv-1194409640/',\n",
       " '/fr/a/canon-ef-m-55-200-mm-4-5-6-3-is-stm-1194384906/',\n",
       " '/fr/a/canon-lens-ef-28mm-f-2.8-is-usm-1194495550/',\n",
       " '/fr/a/canon-eos-750d-ef-s-18-55-mm-1194389560/',\n",
       " '/fr/a/canon-lens-cap-e-145-ef-300-f2.8-lis-usm-1194435410/',\n",
       " '/fr/a/canon-ef-28-70-3.5-4.5-ii-sb-1194343210/',\n",
       " '/fr/a/metabones-speed-booster-ultra-1194520532/',\n",
       " '/fr/a/canon-eos-r-rf-24-105-l-f4-1194483346/',\n",
       " '/fr/a/canon-ef-24-70mm-f-2.8l-ii-usm-1194306978/',\n",
       " '/fr/a/objektiv-canon-ef-75-300mm-f4.0-5.6-iii-1194425266/',\n",
       " '/fr/a/ready-to-work-canon-c100-mark-ii-kit-1194516134/',\n",
       " '/fr/a/es-68-gegenlichtblende-canon-50-1.8-stm-1194488504/',\n",
       " '/fr/a/canon-ef-4-5.6-28-105-mm-1194352440/',\n",
       " '/fr/a/1xcanon-ef-1x-canon-efs-objektiv-1194434284/',\n",
       " '/fr/a/canon-mount-adapter-ef-eos-m-1194394896/',\n",
       " '/fr/a/canon-ef-s-17-55-mm-f-2-8-is-usm-1194351666/',\n",
       " '/fr/a/canon-ef-70-200mm-f-2.8l-is-ii-usm-1194392422/',\n",
       " '/fr/a/bague-canon-ef-eos-r-1194406182/',\n",
       " '/fr/a/canon-eos-750d-1194451692/']"
      ]
     },
     "execution_count": 101,
     "metadata": {},
     "output_type": "execute_result"
    }
   ],
   "source": [
    "new_product_page_urls"
   ]
  },
  {
   "cell_type": "code",
   "execution_count": null,
   "id": "3062348a",
   "metadata": {},
   "outputs": [],
   "source": []
  }
 ],
 "metadata": {
  "kernelspec": {
   "display_name": "Python 3 (ipykernel)",
   "language": "python",
   "name": "python3"
  },
  "language_info": {
   "codemirror_mode": {
    "name": "ipython",
    "version": 3
   },
   "file_extension": ".py",
   "mimetype": "text/x-python",
   "name": "python",
   "nbconvert_exporter": "python",
   "pygments_lexer": "ipython3",
   "version": "3.10.0"
  }
 },
 "nbformat": 4,
 "nbformat_minor": 5
}
