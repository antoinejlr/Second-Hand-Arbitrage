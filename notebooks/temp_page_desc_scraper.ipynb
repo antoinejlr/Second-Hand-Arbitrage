{
 "cells": [
  {
   "cell_type": "code",
   "execution_count": 1,
   "id": "7f02c5da",
   "metadata": {},
   "outputs": [],
   "source": [
    "import glob"
   ]
  },
  {
   "cell_type": "code",
   "execution_count": 46,
   "id": "dea95b30",
   "metadata": {},
   "outputs": [],
   "source": [
    "# fetch all csv file paths\n",
    "csv_file_path_list = glob.glob(\"/Users/Shared/github_projects/Second-Hand-Arbitrage/html_product/*\")"
   ]
  },
  {
   "cell_type": "code",
   "execution_count": 58,
   "id": "3998cf01",
   "metadata": {},
   "outputs": [],
   "source": [
    "html_path = csv_file_path_list[1]"
   ]
  },
  {
   "cell_type": "code",
   "execution_count": 51,
   "id": "0e0b78e7",
   "metadata": {},
   "outputs": [],
   "source": [
    "from bs4 import BeautifulSoup"
   ]
  },
  {
   "cell_type": "code",
   "execution_count": 60,
   "id": "6776f0ae",
   "metadata": {},
   "outputs": [],
   "source": [
    "html = open(html_path, \"r\")\n",
    "bs = BeautifulSoup(html, 'html.parser')"
   ]
  },
  {
   "cell_type": "code",
   "execution_count": 61,
   "id": "ce45d1b0",
   "metadata": {},
   "outputs": [
    {
     "data": {
      "text/plain": [
       "'Wenig gebrauchtes Objektiv. Keine Kratzer, keine Schäden. NP 925.-, 06.2017'"
      ]
     },
     "execution_count": 61,
     "metadata": {},
     "output_type": "execute_result"
    }
   ],
   "source": [
    "bs.div.div.section.contents[-4].div.div.div.contents[3].div.div.div.section.contents[2].div.div.contents[2].article.p.text"
   ]
  },
  {
   "cell_type": "code",
   "execution_count": 57,
   "id": "707edf23",
   "metadata": {},
   "outputs": [
    {
     "data": {
      "text/plain": [
       "'Somit das Beste Objektiv was ich jemals brauchte. Ich verkaufe es wegen System wechsel.'"
      ]
     },
     "execution_count": 57,
     "metadata": {},
     "output_type": "execute_result"
    }
   ],
   "source": [
    "bs.div.div.section.contents[-4].div.div.div.contents[3].div.div.div.section.contents[2].div.div.contents[2].article.p.text"
   ]
  },
  {
   "cell_type": "code",
   "execution_count": 31,
   "id": "71ffe846",
   "metadata": {},
   "outputs": [],
   "source": [
    "import pandas as pd"
   ]
  },
  {
   "cell_type": "code",
   "execution_count": 34,
   "id": "02dac106",
   "metadata": {},
   "outputs": [],
   "source": [
    "df_shell = pd.DataFrame(columns=[\"url\", \"desc\"])"
   ]
  },
  {
   "cell_type": "code",
   "execution_count": 44,
   "id": "b0244b01",
   "metadata": {},
   "outputs": [],
   "source": [
    "to_add = pd.DataFrame({\"url\":'abc',\"desc\":'def'}, index = [1])\n",
    "to_add_2 = pd.DataFrame({\"url\":'lele',\"desc\":'deddddf'}, index = [1])"
   ]
  },
  {
   "cell_type": "code",
   "execution_count": 41,
   "id": "9d223185",
   "metadata": {},
   "outputs": [
    {
     "data": {
      "text/html": [
       "<div>\n",
       "<style scoped>\n",
       "    .dataframe tbody tr th:only-of-type {\n",
       "        vertical-align: middle;\n",
       "    }\n",
       "\n",
       "    .dataframe tbody tr th {\n",
       "        vertical-align: top;\n",
       "    }\n",
       "\n",
       "    .dataframe thead th {\n",
       "        text-align: right;\n",
       "    }\n",
       "</style>\n",
       "<table border=\"1\" class=\"dataframe\">\n",
       "  <thead>\n",
       "    <tr style=\"text-align: right;\">\n",
       "      <th></th>\n",
       "      <th>url</th>\n",
       "      <th>desc</th>\n",
       "    </tr>\n",
       "  </thead>\n",
       "  <tbody>\n",
       "    <tr>\n",
       "      <th>1</th>\n",
       "      <td>abc</td>\n",
       "      <td>def</td>\n",
       "    </tr>\n",
       "  </tbody>\n",
       "</table>\n",
       "</div>"
      ],
      "text/plain": [
       "   url desc\n",
       "1  abc  def"
      ]
     },
     "execution_count": 41,
     "metadata": {},
     "output_type": "execute_result"
    }
   ],
   "source": [
    "to_add"
   ]
  },
  {
   "cell_type": "code",
   "execution_count": 45,
   "id": "39c1fb2a",
   "metadata": {},
   "outputs": [
    {
     "data": {
      "text/html": [
       "<div>\n",
       "<style scoped>\n",
       "    .dataframe tbody tr th:only-of-type {\n",
       "        vertical-align: middle;\n",
       "    }\n",
       "\n",
       "    .dataframe tbody tr th {\n",
       "        vertical-align: top;\n",
       "    }\n",
       "\n",
       "    .dataframe thead th {\n",
       "        text-align: right;\n",
       "    }\n",
       "</style>\n",
       "<table border=\"1\" class=\"dataframe\">\n",
       "  <thead>\n",
       "    <tr style=\"text-align: right;\">\n",
       "      <th></th>\n",
       "      <th>url</th>\n",
       "      <th>desc</th>\n",
       "    </tr>\n",
       "  </thead>\n",
       "  <tbody>\n",
       "    <tr>\n",
       "      <th>1</th>\n",
       "      <td>abc</td>\n",
       "      <td>def</td>\n",
       "    </tr>\n",
       "    <tr>\n",
       "      <th>1</th>\n",
       "      <td>lele</td>\n",
       "      <td>deddddf</td>\n",
       "    </tr>\n",
       "  </tbody>\n",
       "</table>\n",
       "</div>"
      ],
      "text/plain": [
       "    url     desc\n",
       "1   abc      def\n",
       "1  lele  deddddf"
      ]
     },
     "execution_count": 45,
     "metadata": {},
     "output_type": "execute_result"
    }
   ],
   "source": [
    "pd.concat([to_add,to_add_2])"
   ]
  },
  {
   "cell_type": "code",
   "execution_count": 62,
   "id": "6d734678",
   "metadata": {},
   "outputs": [
    {
     "name": "stdout",
     "output_type": "stream",
     "text": [
      "1\n",
      "2\n",
      "3\n",
      "4\n"
     ]
    }
   ],
   "source": [
    "for i in range(1, 5):\n",
    "    print(i)"
   ]
  },
  {
   "cell_type": "code",
   "execution_count": null,
   "id": "f5f0be52",
   "metadata": {},
   "outputs": [],
   "source": [
    "with open(\"/Users/Shared/github_projects/Second-Hand-Arbitrage/metadata/product_page_urls.txt\") as product"
   ]
  }
 ],
 "metadata": {
  "kernelspec": {
   "display_name": "Python 3 (ipykernel)",
   "language": "python",
   "name": "python3"
  },
  "language_info": {
   "codemirror_mode": {
    "name": "ipython",
    "version": 3
   },
   "file_extension": ".py",
   "mimetype": "text/x-python",
   "name": "python",
   "nbconvert_exporter": "python",
   "pygments_lexer": "ipython3",
   "version": "3.10.0"
  }
 },
 "nbformat": 4,
 "nbformat_minor": 5
}
